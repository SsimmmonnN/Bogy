{
 "cells": [
  {
   "cell_type": "markdown",
   "metadata": {},
   "source": [
    "# Linear Regression\n",
    "-----------------------------------------\n",
    "### Estimate height of boys based on their age"
   ]
  },
  {
   "cell_type": "code",
   "execution_count": 1,
   "metadata": {
    "collapsed": true
   },
   "outputs": [],
   "source": [
    "import numpy as np\n",
    "import matplotlib.pyplot as plt\n",
    "from tqdm import tnrange, tqdm_notebook\n",
    "%matplotlib inline"
   ]
  },
  {
   "cell_type": "code",
   "execution_count": 2,
   "metadata": {
    "collapsed": true
   },
   "outputs": [],
   "source": [
    "# convert data into array\n",
    "def FileToArray(file):\n",
    "    filet = open(file, 'r')\n",
    "    Array = []\n",
    "    for line in filet:       \n",
    "        num,ex = line.split(\"e\")\n",
    "        G = float(num)*10**float(ex)\n",
    "        Array.append(G)\n",
    "    return Array\n",
    "\n",
    "\n",
    "def Convert2d(a1,a2):\n",
    "    a = np.stack((a1,a2),axis=1)\n",
    "    return a"
   ]
  },
  {
   "cell_type": "markdown",
   "metadata": {},
   "source": [
    "## The Data"
   ]
  },
  {
   "cell_type": "code",
   "execution_count": 3,
   "metadata": {},
   "outputs": [
    {
     "data": {
      "text/plain": [
       "<matplotlib.text.Text at 0x7eab978>"
      ]
     },
     "execution_count": 3,
     "metadata": {},
     "output_type": "execute_result"
    },
    {
     "data": {
      "image/png": "[encoded data removed]",
      "text/plain": [
       "<matplotlib.figure.Figure at 0x7d37be0>"
      ]
     },
     "metadata": {},
     "output_type": "display_data"
    }
   ],
   "source": [
    "X = FileToArray(\"ex2x.dat\")\n",
    "Y = FileToArray(\"ex2y.dat\")\n",
    "data = Convert2d(X,Y)\n",
    "plt.scatter(data[:,0],data[:,1])\n",
    "plt.xlabel('Age')\n",
    "plt.ylabel('Height[M]')\n",
    "plt.title('Correlation between height and age')\n"
   ]
  },
  {
   "cell_type": "markdown",
   "metadata": {},
   "source": [
    "\n",
    "---\n",
    "some useful functions"
   ]
  },
  {
   "cell_type": "code",
   "execution_count": 4,
   "metadata": {
    "collapsed": true
   },
   "outputs": [],
   "source": [
    "# m is slope | c is y-intersept\n",
    "def Function(X,m,c):\n",
    "    X = float(X)\n",
    "    m = float(m)\n",
    "    c = float(c)\n",
    "    Y = m * X + c\n",
    "    \n",
    "    return Y"
   ]
  },
  {
   "cell_type": "code",
   "execution_count": 5,
   "metadata": {
    "collapsed": true
   },
   "outputs": [],
   "source": [
    "def slope(p1,p2):\n",
    "    np.array(p1)\n",
    "    np.array(p2)\n",
    "    diff = np.subtract(p2,p1)\n",
    "    m = diff[1]/diff[0]\n",
    "    return m\n",
    "def Yinter(p1,p2):\n",
    "    m = slope(p1,p2)\n",
    "    c = p1[1]-m*p1[0]\n",
    "    return c"
   ]
  },
  {
   "cell_type": "code",
   "execution_count": 6,
   "metadata": {
    "collapsed": true
   },
   "outputs": [],
   "source": [
    "def getLine(p1,p2):\n",
    "    m = slope(p1,p2)\n",
    "    c = p1[1]-m*p1[0]\n",
    "    return m, c"
   ]
  },
  {
   "cell_type": "code",
   "execution_count": 7,
   "metadata": {
    "collapsed": true
   },
   "outputs": [],
   "source": [
    "def plotData(P,L):\n",
    "    plt.scatter(P[:,0],P[:,1])\n",
    "    plt.xlabel('Age')\n",
    "    plt.ylabel('Height[M]')\n",
    "    plt.title('Correlation between height and age')\n"
   ]
  },
  {
   "cell_type": "markdown",
   "metadata": {},
   "source": [
    "determine the squared distance of point and graph"
   ]
  },
  {
   "cell_type": "code",
   "execution_count": 8,
   "metadata": {
    "collapsed": true
   },
   "outputs": [],
   "source": [
    "# P = [x,y] | L = [m,c]\n",
    "def SqDistPL(P,L):\n",
    "    Yp = P[1]\n",
    "    Yl = Function(P[0],L[0],L[1])\n",
    "    D = (Yl - Yp)**2\n",
    "    return D\n",
    "    \n",
    "    "
   ]
  },
  {
   "cell_type": "markdown",
   "metadata": {},
   "source": [
    "## loss function:\n",
    "describes how good the data is represented by the Graph"
   ]
  },
  {
   "cell_type": "code",
   "execution_count": 9,
   "metadata": {
    "collapsed": true
   },
   "outputs": [],
   "source": [
    "def Loss(Points,L):\n",
    "    J = 0\n",
    "    for P in Points:\n",
    "        tmp = SqDistPL(P,L)\n",
    "        J += tmp\n",
    "    return J        "
   ]
  },
  {
   "cell_type": "code",
   "execution_count": 10,
   "metadata": {
    "scrolled": true
   },
   "outputs": [
    {
     "data": {
      "text/plain": [
       "<matplotlib.text.Text at 0x81aa940>"
      ]
     },
     "execution_count": 10,
     "metadata": {},
     "output_type": "execute_result"
    },
    {
     "data": {
      "image/png": "[encoded data removed]",
      "text/plain": [
       "<matplotlib.figure.Figure at 0x7d37710>"
      ]
     },
     "metadata": {},
     "output_type": "display_data"
    }
   ],
   "source": [
    "def plotLossm(data,c,Range=[-2,2],step=0.2):\n",
    "    # has to be 1st negative 2nd positive or 0\n",
    "    neg = 0-Range[0]\n",
    "    negX = (neg/step)+1\n",
    "    positive = 0+Range[1]\n",
    "    posX = ((positive)/step)+1\n",
    "    posX = int(posX)\n",
    "    negX = int(negX)\n",
    "    xs =[]\n",
    "    for i in range(1,negX):\n",
    "        xs.append((\"%.3f\" % -(i*step)))\n",
    "    for s in range(1,posX):\n",
    "        xs.append((\"%.3f\" % (s*step)))        \n",
    "    ys = []\n",
    "    for x in xs:\n",
    "        ys.append(Loss(data,[x,c]))\n",
    "    a=Convert2d(xs,ys)\n",
    "    return a\n",
    "        \n",
    "        \n",
    "        \n",
    "    \n",
    "    \n",
    "a = plotLossm(data,0.7,Range=[0,0.2],step=0.001)\n",
    "plt.scatter(a[:,0],a[:,1])\n",
    "plt.xlabel('m')\n",
    "plt.ylabel('Loss')\n",
    "plt.title('Loss of m')\n"
   ]
  },
  {
   "cell_type": "code",
   "execution_count": 11,
   "metadata": {},
   "outputs": [
    {
     "data": {
      "text/plain": [
       "<matplotlib.text.Text at 0x8243908>"
      ]
     },
     "execution_count": 11,
     "metadata": {},
     "output_type": "execute_result"
    },
    {
     "data": {
      "image/png": "[encoded data removed]",
      "text/plain": [
       "<matplotlib.figure.Figure at 0x7ea4128>"
      ]
     },
     "metadata": {},
     "output_type": "display_data"
    }
   ],
   "source": [
    "def plotLossc(data,m,Range=[-2,2],step=0.2):\n",
    "    # has to be 1st negative 2nd positive or 0\n",
    "    neg = 0-Range[0]\n",
    "    negX = (neg/step)+1\n",
    "    positive = 0+Range[1]\n",
    "    posX = ((positive)/step)+1\n",
    "    posX = int(posX)\n",
    "    negX = int(negX)\n",
    "    xs =[]\n",
    "    for i in range(1,negX):\n",
    "        xs.append((\"%.3f\" % -(i*step)))\n",
    "    for s in range(1,posX):\n",
    "        xs.append((\"%.3f\" % (s*step)))        \n",
    "    ys = []\n",
    "    for x in xs:\n",
    "        ys.append(Loss(data,[m,x]))\n",
    "    a=Convert2d(xs,ys)\n",
    "    return a\n",
    "        \n",
    "        \n",
    "    \n",
    "    \n",
    "g = plotLossc(data,0.089,Range=[0,1],step=0.001)\n",
    "plt.scatter(g[:,0],g[:,1])\n",
    "plt.xlabel('c')\n",
    "plt.ylabel('Loss')\n",
    "plt.title('Loss of c')\n"
   ]
  },
  {
   "cell_type": "markdown",
   "metadata": {},
   "source": [
    "---\n",
    "## The Algorithm\n",
    "---\n",
    "###  create an initial line\n",
    "through two most extreme points"
   ]
  },
  {
   "cell_type": "code",
   "execution_count": 12,
   "metadata": {
    "collapsed": true
   },
   "outputs": [],
   "source": [
    "def randLine(Points):\n",
    "    ## if sorted\n",
    "    p1 = Points[0]\n",
    "    p2 = Points[-1]\n",
    "    m,c = getLine(p1,p2)\n",
    "    return m,c"
   ]
  },
  {
   "cell_type": "markdown",
   "metadata": {},
   "source": [
    "### determine the rate of change in loss "
   ]
  },
  {
   "cell_type": "code",
   "execution_count": 13,
   "metadata": {
    "collapsed": true
   },
   "outputs": [],
   "source": [
    "def changeJm(Points,m,c,step=0.01):\n",
    "    o = Loss(Points,[m,c])\n",
    "    a = Loss(Points,[m+step,c])\n",
    "    change,waste = getLine([m,o],[m+step,a])\n",
    "    return change\n",
    "\n",
    "\n",
    "def changeJc(Points,m,c,step=0.01):\n",
    "    o = Loss(Points,[m,c])\n",
    "    a = Loss(Points,[m,c+step])\n",
    "    change,waste = getLine([c,o],[c+step,a])\n",
    "    return change"
   ]
  },
  {
   "cell_type": "markdown",
   "metadata": {},
   "source": [
    "### descend the Loss function by a set amount"
   ]
  },
  {
   "cell_type": "code",
   "execution_count": 14,
   "metadata": {
    "collapsed": true
   },
   "outputs": [],
   "source": [
    "def descendM(Points,m,c,step=0.0001):\n",
    "    if changeJm(Points,m,c) < 0:\n",
    "        M = m + step \n",
    "    else:\n",
    "        M = m - step\n",
    "    return M\n",
    "\n",
    "\n",
    "def descendC(Points,m,c,step=0.0001):\n",
    "    if changeJc(Points,m,c) < 0:\n",
    "        C = c + step \n",
    "    else:\n",
    "        C = c - step\n",
    "    return C"
   ]
  },
  {
   "cell_type": "markdown",
   "metadata": {},
   "source": [
    "### repeat over with more and more accuracy"
   ]
  },
  {
   "cell_type": "code",
   "execution_count": 15,
   "metadata": {
    "collapsed": true
   },
   "outputs": [],
   "source": [
    "def findMinM(Points,m,c,acc=4):\n",
    "    Min = m\n",
    "    for a in range(acc):\n",
    "        z = 100**-a\n",
    "        #for i in range(iterations):\n",
    "        while True:\n",
    "            tmp = descendM(Points,Min,c,step = z)\n",
    "            if Loss(Points,[tmp,c]) < Loss(Points,[Min,c]):\n",
    "                Min = tmp\n",
    "            else:\n",
    "                break\n",
    "    return Min\n",
    "\n",
    "\n",
    "def findMinC(Points,m,c,acc=4):\n",
    "    Min = c\n",
    "    for a in range(acc):\n",
    "        z = 100**-a\n",
    "        #for i in range(iterations):\n",
    "        while True:\n",
    "            tmp = descendC(Points,m,Min,step = z)\n",
    "            if Loss(Points,[m,tmp]) < Loss(Points,[m,Min]):\n",
    "                Min = tmp\n",
    "            else:\n",
    "                break\n",
    "    return Min\n",
    " \n",
    "def Optimize(Points,its=75,acc=10,show_loading_bar = False):\n",
    "    M,C = randLine(Points)   \n",
    "    iterator = tnrange if show_loading_bar else range\n",
    "    for i in iterator(its):\n",
    "        M = findMinM(Points,M,C,acc)\n",
    "        C = findMinC(Points,M,C,acc)\n",
    "    return M,C"
   ]
  },
  {
   "cell_type": "markdown",
   "metadata": {},
   "source": [
    "---\n",
    "## Using it on our data\n",
    "---"
   ]
  },
  {
   "cell_type": "code",
   "execution_count": 16,
   "metadata": {},
   "outputs": [
    {
     "name": "stdout",
     "output_type": "stream",
     "text": [
      "Slope: 0.0715084451113 \n",
      "C: 0.708078581942\n"
     ]
    },
    {
     "data": {
      "text/plain": [
       "<matplotlib.text.Text at 0x82d7b38>"
      ]
     },
     "execution_count": 16,
     "metadata": {},
     "output_type": "execute_result"
    },
    {
     "data": {
      "image/png": "[encoded data removed]",
      "text/plain": [
       "<matplotlib.figure.Figure at 0x82a6240>"
      ]
     },
     "metadata": {},
     "output_type": "display_data"
    }
   ],
   "source": [
    "#find best slope and y-intersept\n",
    "Z,G = Optimize(data,show_loading_bar=False)\n",
    "\n",
    "#create points to plot\n",
    "t = [1,10]\n",
    "v = [Function(1,Z,G),Function(10,Z,G)]\n",
    "\n",
    "\n",
    "plt.scatter(data[:,0],data[:,1])#plot data\n",
    "plt.plot(t,v)                   #plot line\n",
    "\n",
    "print(\"Slope:\",Z,\"\\nC:\",G)\n",
    "plt.xlabel('Age')\n",
    "plt.ylabel('Height[M]')\n",
    "plt.title('Correlation between height and age')\n"
   ]
  },
  {
   "cell_type": "markdown",
   "metadata": {},
   "source": [
    "---\n",
    "## Bonus: New Data"
   ]
  },
  {
   "cell_type": "code",
   "execution_count": 20,
   "metadata": {},
   "outputs": [],
   "source": [
    "def ToyData(m,c,spread=1,length=10,dist=1, size=31):\n",
    "    S = [[2,2]]\n",
    "    for l in range(length):\n",
    "        s = (spread * np.random.randn(size, 2))\n",
    "        s[:,0] += l*dist\n",
    "        s[:,1] += Function(l*dist,m,c)\n",
    "        S = np.concatenate((S,s))\n",
    "        \n",
    "    S = S[1:]\n",
    "    return S"
   ]
  },
  {
   "cell_type": "code",
   "execution_count": 21,
   "metadata": {
    "scrolled": false
   },
   "outputs": [
    {
     "data": {
      "text/plain": [
       "<matplotlib.collections.PathCollection at 0x84d53c8>"
      ]
     },
     "execution_count": 21,
     "metadata": {},
     "output_type": "execute_result"
    },
    {
     "data": {
      "image/png": "[encoded data removed]",
      "text/plain": [
       "<matplotlib.figure.Figure at 0x83ff358>"
      ]
     },
     "metadata": {},
     "output_type": "display_data"
    }
   ],
   "source": [
    "m = 0.5\n",
    "c = 5\n",
    "\n",
    "S = ToyData(m,c,spread=1,length=15, dist =2 )\n",
    "plt.scatter(S[:,0],S[:,1])\n"
   ]
  },
  {
   "cell_type": "code",
   "execution_count": 22,
   "metadata": {},
   "outputs": [
    {
     "data": {
      "application/vnd.jupyter.widget-view+json": {
       "model_id": "5b7dca453a89486bb155f866f1337439"
      }
     },
     "metadata": {},
     "output_type": "display_data"
    },
    {
     "name": "stdout",
     "output_type": "stream",
     "text": [
      "\n",
      "Slope: 0.489087400965 \n",
      "C: 5.16885754683\n",
      "\n",
      "real\n",
      "Slope: 0.5 \n",
      "C: 5\n"
     ]
    },
    {
     "data": {
      "image/png": "[encoded data removed]",
      "text/plain": [
       "<matplotlib.figure.Figure at 0x8495390>"
      ]
     },
     "metadata": {},
     "output_type": "display_data"
    }
   ],
   "source": [
    "\n",
    "M,C=Optimize(S,show_loading_bar=True)\n",
    "\n",
    "#boundaries for line\n",
    "lowx = min(S[:,0])\n",
    "hix = max(S[:,0])\n",
    "\n",
    "\n",
    "t = [lowx,hix]\n",
    "v = [Function(lowx,M,C),Function(hix,M,C)]\n",
    "plt.scatter(S[:,0],S[:,1])\n",
    "plt.plot(t,v,\"r\")\n",
    "print(\"Slope:\",M,\"\\nC:\",C)\n",
    "print(\"\\nreal\\nSlope:\",m,\"\\nC:\",c)\n"
   ]
  },
  {
   "cell_type": "code",
   "execution_count": null,
   "metadata": {
    "collapsed": true
   },
   "outputs": [],
   "source": []
  },
  {
   "cell_type": "code",
   "execution_count": null,
   "metadata": {
    "collapsed": true
   },
   "outputs": [],
   "source": []
  }
 ],
 "metadata": {
  "kernelspec": {
   "display_name": "Python 3",
   "language": "python",
   "name": "python3"
  },
  "language_info": {
   "codemirror_mode": {
    "name": "ipython",
    "version": 3
   },
   "file_extension": ".py",
   "mimetype": "text/x-python",
   "name": "python",
   "nbconvert_exporter": "python",
   "pygments_lexer": "ipython3",
   "version": "3.6.1"
  }
 },
 "nbformat": 4,
 "nbformat_minor": 2
}
